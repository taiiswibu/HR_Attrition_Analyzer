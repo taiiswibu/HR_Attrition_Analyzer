{
 "cells": [
  {
   "cell_type": "code",
   "execution_count": 12,
   "id": "1dda805d",
   "metadata": {},
   "outputs": [
    {
     "name": "stdout",
     "output_type": "stream",
     "text": [
      "Đã tạo database hr_attrition.db với bảng hr\n"
     ]
    },
    {
     "name": "stderr",
     "output_type": "stream",
     "text": [
      "<>:4: SyntaxWarning: invalid escape sequence '\\C'\n",
      "<>:4: SyntaxWarning: invalid escape sequence '\\C'\n",
      "C:\\Users\\vovan\\AppData\\Local\\Temp\\ipykernel_14316\\2453243665.py:4: SyntaxWarning: invalid escape sequence '\\C'\n",
      "  df = pd.read_csv('D:\\Code\\HR_Attrition_Analyzer\\data\\employee_cleaned.csv')\n"
     ]
    }
   ],
   "source": [
    "import pandas as pd\n",
    "import sqlite3\n",
    "\n",
    "df = pd.read_csv('D:\\Code\\HR_Attrition_Analyzer\\data\\employee_cleaned.csv')\n",
    "\n",
    "conn = sqlite3.connect('hr_attrition.db')\n",
    "df.to_sql('hr', conn, if_exists='replace', index=False)\n",
    "conn.close()\n",
    "print(\"Đã tạo database hr_attrition.db với bảng hr\")\n"
   ]
  },
  {
   "cell_type": "code",
   "execution_count": 13,
   "id": "212ff297",
   "metadata": {},
   "outputs": [],
   "source": [
    "# Kết nối tới database SQLite\n",
    "conn = sqlite3.connect(\"hr_attrition.db\")\n"
   ]
  },
  {
   "cell_type": "markdown",
   "id": "1695e556",
   "metadata": {},
   "source": [
    "# 1. Tỷ lệ nghỉ việc (Attrition) theo phòng ban (Department)"
   ]
  },
  {
   "cell_type": "code",
   "execution_count": 14,
   "id": "4a9fd96b",
   "metadata": {},
   "outputs": [
    {
     "data": {
      "text/html": [
       "<div>\n",
       "<style scoped>\n",
       "    .dataframe tbody tr th:only-of-type {\n",
       "        vertical-align: middle;\n",
       "    }\n",
       "\n",
       "    .dataframe tbody tr th {\n",
       "        vertical-align: top;\n",
       "    }\n",
       "\n",
       "    .dataframe thead th {\n",
       "        text-align: right;\n",
       "    }\n",
       "</style>\n",
       "<table border=\"1\" class=\"dataframe\">\n",
       "  <thead>\n",
       "    <tr style=\"text-align: right;\">\n",
       "      <th></th>\n",
       "      <th>Department</th>\n",
       "      <th>Attrition_Rate_Percent</th>\n",
       "      <th>Total_Employees</th>\n",
       "    </tr>\n",
       "  </thead>\n",
       "  <tbody>\n",
       "    <tr>\n",
       "      <th>0</th>\n",
       "      <td>Sales</td>\n",
       "      <td>20.63</td>\n",
       "      <td>446</td>\n",
       "    </tr>\n",
       "    <tr>\n",
       "      <th>1</th>\n",
       "      <td>Human Resources</td>\n",
       "      <td>19.05</td>\n",
       "      <td>63</td>\n",
       "    </tr>\n",
       "    <tr>\n",
       "      <th>2</th>\n",
       "      <td>Research &amp; Development</td>\n",
       "      <td>13.84</td>\n",
       "      <td>961</td>\n",
       "    </tr>\n",
       "  </tbody>\n",
       "</table>\n",
       "</div>"
      ],
      "text/plain": [
       "               Department  Attrition_Rate_Percent  Total_Employees\n",
       "0                   Sales                   20.63              446\n",
       "1         Human Resources                   19.05               63\n",
       "2  Research & Development                   13.84              961"
      ]
     },
     "execution_count": 14,
     "metadata": {},
     "output_type": "execute_result"
    }
   ],
   "source": [
    "query = \"\"\"\n",
    "SELECT Department,\n",
    "       ROUND(AVG(Attrition)*100,2) AS Attrition_Rate_Percent,\n",
    "       COUNT(*) AS Total_Employees\n",
    "FROM hr\n",
    "GROUP BY Department\n",
    "ORDER BY Attrition_Rate_Percent DESC;\n",
    "\"\"\"\n",
    "\n",
    "df_result = pd.read_sql_query(query, conn)\n",
    "df_result\n"
   ]
  },
  {
   "cell_type": "markdown",
   "id": "f3f99ede",
   "metadata": {},
   "source": [
    "# 2. Tỷ lệ nghỉ việc theo JobRole"
   ]
  },
  {
   "cell_type": "code",
   "execution_count": 15,
   "id": "74cddb04",
   "metadata": {},
   "outputs": [
    {
     "data": {
      "text/html": [
       "<div>\n",
       "<style scoped>\n",
       "    .dataframe tbody tr th:only-of-type {\n",
       "        vertical-align: middle;\n",
       "    }\n",
       "\n",
       "    .dataframe tbody tr th {\n",
       "        vertical-align: top;\n",
       "    }\n",
       "\n",
       "    .dataframe thead th {\n",
       "        text-align: right;\n",
       "    }\n",
       "</style>\n",
       "<table border=\"1\" class=\"dataframe\">\n",
       "  <thead>\n",
       "    <tr style=\"text-align: right;\">\n",
       "      <th></th>\n",
       "      <th>JobRole</th>\n",
       "      <th>Attrition_Rate_Percent</th>\n",
       "      <th>Total_Employees</th>\n",
       "    </tr>\n",
       "  </thead>\n",
       "  <tbody>\n",
       "    <tr>\n",
       "      <th>0</th>\n",
       "      <td>Sales Representative</td>\n",
       "      <td>39.76</td>\n",
       "      <td>83</td>\n",
       "    </tr>\n",
       "    <tr>\n",
       "      <th>1</th>\n",
       "      <td>Laboratory Technician</td>\n",
       "      <td>23.94</td>\n",
       "      <td>259</td>\n",
       "    </tr>\n",
       "    <tr>\n",
       "      <th>2</th>\n",
       "      <td>Human Resources</td>\n",
       "      <td>23.08</td>\n",
       "      <td>52</td>\n",
       "    </tr>\n",
       "    <tr>\n",
       "      <th>3</th>\n",
       "      <td>Sales Executive</td>\n",
       "      <td>17.48</td>\n",
       "      <td>326</td>\n",
       "    </tr>\n",
       "    <tr>\n",
       "      <th>4</th>\n",
       "      <td>Research Scientist</td>\n",
       "      <td>16.10</td>\n",
       "      <td>292</td>\n",
       "    </tr>\n",
       "    <tr>\n",
       "      <th>5</th>\n",
       "      <td>Manufacturing Director</td>\n",
       "      <td>6.90</td>\n",
       "      <td>145</td>\n",
       "    </tr>\n",
       "    <tr>\n",
       "      <th>6</th>\n",
       "      <td>Healthcare Representative</td>\n",
       "      <td>6.87</td>\n",
       "      <td>131</td>\n",
       "    </tr>\n",
       "    <tr>\n",
       "      <th>7</th>\n",
       "      <td>Manager</td>\n",
       "      <td>4.90</td>\n",
       "      <td>102</td>\n",
       "    </tr>\n",
       "    <tr>\n",
       "      <th>8</th>\n",
       "      <td>Research Director</td>\n",
       "      <td>2.50</td>\n",
       "      <td>80</td>\n",
       "    </tr>\n",
       "  </tbody>\n",
       "</table>\n",
       "</div>"
      ],
      "text/plain": [
       "                     JobRole  Attrition_Rate_Percent  Total_Employees\n",
       "0       Sales Representative                   39.76               83\n",
       "1      Laboratory Technician                   23.94              259\n",
       "2            Human Resources                   23.08               52\n",
       "3            Sales Executive                   17.48              326\n",
       "4         Research Scientist                   16.10              292\n",
       "5     Manufacturing Director                    6.90              145\n",
       "6  Healthcare Representative                    6.87              131\n",
       "7                    Manager                    4.90              102\n",
       "8          Research Director                    2.50               80"
      ]
     },
     "execution_count": 15,
     "metadata": {},
     "output_type": "execute_result"
    }
   ],
   "source": [
    "# Câu truy vấn SQL: Tính tỷ lệ nghỉ việc theo từng chức danh công việc\n",
    "query = \"\"\"\n",
    "SELECT JobRole,\n",
    "       ROUND(AVG(Attrition)*100, 2) AS Attrition_Rate_Percent,\n",
    "       COUNT(*) AS Total_Employees\n",
    "FROM hr\n",
    "GROUP BY JobRole\n",
    "ORDER BY Attrition_Rate_Percent DESC;\n",
    "\"\"\"\n",
    "\n",
    "# Thực hiện truy vấn và lưu kết quả vào DataFrame\n",
    "df_role = pd.read_sql_query(query, conn)\n",
    "# Hiển thị kết quả phân tích\n",
    "df_role\n"
   ]
  },
  {
   "cell_type": "markdown",
   "id": "3a5264b0",
   "metadata": {},
   "source": [
    "# 3. Ảnh hưởng của Overtime tới nghỉ việc"
   ]
  },
  {
   "cell_type": "code",
   "execution_count": 16,
   "id": "aa60c82e",
   "metadata": {},
   "outputs": [
    {
     "data": {
      "text/html": [
       "<div>\n",
       "<style scoped>\n",
       "    .dataframe tbody tr th:only-of-type {\n",
       "        vertical-align: middle;\n",
       "    }\n",
       "\n",
       "    .dataframe tbody tr th {\n",
       "        vertical-align: top;\n",
       "    }\n",
       "\n",
       "    .dataframe thead th {\n",
       "        text-align: right;\n",
       "    }\n",
       "</style>\n",
       "<table border=\"1\" class=\"dataframe\">\n",
       "  <thead>\n",
       "    <tr style=\"text-align: right;\">\n",
       "      <th></th>\n",
       "      <th>OverTime</th>\n",
       "      <th>Attrition_Rate_Percent</th>\n",
       "      <th>Total_Employees</th>\n",
       "    </tr>\n",
       "  </thead>\n",
       "  <tbody>\n",
       "    <tr>\n",
       "      <th>0</th>\n",
       "      <td>Yes</td>\n",
       "      <td>30.53</td>\n",
       "      <td>416</td>\n",
       "    </tr>\n",
       "    <tr>\n",
       "      <th>1</th>\n",
       "      <td>No</td>\n",
       "      <td>10.44</td>\n",
       "      <td>1054</td>\n",
       "    </tr>\n",
       "  </tbody>\n",
       "</table>\n",
       "</div>"
      ],
      "text/plain": [
       "  OverTime  Attrition_Rate_Percent  Total_Employees\n",
       "0      Yes                   30.53              416\n",
       "1       No                   10.44             1054"
      ]
     },
     "execution_count": 16,
     "metadata": {},
     "output_type": "execute_result"
    }
   ],
   "source": [
    "\n",
    "query = \"\"\"\n",
    "SELECT OverTime,\n",
    "       ROUND(AVG(Attrition)*100, 2) AS Attrition_Rate_Percent,\n",
    "       COUNT(*) AS Total_Employees\n",
    "FROM hr\n",
    "GROUP BY OverTime\n",
    "ORDER BY Attrition_Rate_Percent DESC;\n",
    "\"\"\"\n",
    "\n",
    "df_overtime = pd.read_sql_query(query, conn)\n",
    "\n",
    "df_overtime\n"
   ]
  },
  {
   "cell_type": "markdown",
   "id": "b061ba04",
   "metadata": {},
   "source": [
    "# 4. Tỷ lệ nghỉ việc theo nhóm tuổi (Age)"
   ]
  },
  {
   "cell_type": "code",
   "execution_count": 17,
   "id": "2bff6d04",
   "metadata": {},
   "outputs": [
    {
     "data": {
      "text/html": [
       "<div>\n",
       "<style scoped>\n",
       "    .dataframe tbody tr th:only-of-type {\n",
       "        vertical-align: middle;\n",
       "    }\n",
       "\n",
       "    .dataframe tbody tr th {\n",
       "        vertical-align: top;\n",
       "    }\n",
       "\n",
       "    .dataframe thead th {\n",
       "        text-align: right;\n",
       "    }\n",
       "</style>\n",
       "<table border=\"1\" class=\"dataframe\">\n",
       "  <thead>\n",
       "    <tr style=\"text-align: right;\">\n",
       "      <th></th>\n",
       "      <th>Age_Group</th>\n",
       "      <th>Attrition_Rate_Percent</th>\n",
       "      <th>Total_Employees</th>\n",
       "    </tr>\n",
       "  </thead>\n",
       "  <tbody>\n",
       "    <tr>\n",
       "      <th>0</th>\n",
       "      <td>30-39</td>\n",
       "      <td>14.31</td>\n",
       "      <td>622</td>\n",
       "    </tr>\n",
       "    <tr>\n",
       "      <th>1</th>\n",
       "      <td>40+</td>\n",
       "      <td>10.92</td>\n",
       "      <td>522</td>\n",
       "    </tr>\n",
       "    <tr>\n",
       "      <th>2</th>\n",
       "      <td>&lt;30</td>\n",
       "      <td>27.91</td>\n",
       "      <td>326</td>\n",
       "    </tr>\n",
       "  </tbody>\n",
       "</table>\n",
       "</div>"
      ],
      "text/plain": [
       "  Age_Group  Attrition_Rate_Percent  Total_Employees\n",
       "0     30-39                   14.31              622\n",
       "1       40+                   10.92              522\n",
       "2       <30                   27.91              326"
      ]
     },
     "execution_count": 17,
     "metadata": {},
     "output_type": "execute_result"
    }
   ],
   "source": [
    "# Bước 2: Câu truy vấn SQL – Phân tích tỷ lệ nghỉ việc theo nhóm tuổi\n",
    "query = \"\"\"\n",
    "SELECT\n",
    "  CASE \n",
    "    WHEN Age < 30 THEN '<30'\n",
    "    WHEN Age BETWEEN 30 AND 39 THEN '30-39'\n",
    "    ELSE '40+'\n",
    "  END AS Age_Group,\n",
    "  ROUND(AVG(Attrition)*100, 2) AS Attrition_Rate_Percent,\n",
    "  COUNT(*) AS Total_Employees\n",
    "FROM hr\n",
    "GROUP BY Age_Group\n",
    "ORDER BY Age_Group;\n",
    "\"\"\"\n",
    "\n",
    "df_age = pd.read_sql_query(query, conn)\n",
    "\n",
    "df_age\n"
   ]
  },
  {
   "cell_type": "markdown",
   "id": "58387a3b",
   "metadata": {},
   "source": [
    "# 5. So sánh thu nhập trung bình giữa nghỉ việc và không nghỉ việc"
   ]
  },
  {
   "cell_type": "code",
   "execution_count": 18,
   "id": "35343919",
   "metadata": {},
   "outputs": [
    {
     "data": {
      "text/html": [
       "<div>\n",
       "<style scoped>\n",
       "    .dataframe tbody tr th:only-of-type {\n",
       "        vertical-align: middle;\n",
       "    }\n",
       "\n",
       "    .dataframe tbody tr th {\n",
       "        vertical-align: top;\n",
       "    }\n",
       "\n",
       "    .dataframe thead th {\n",
       "        text-align: right;\n",
       "    }\n",
       "</style>\n",
       "<table border=\"1\" class=\"dataframe\">\n",
       "  <thead>\n",
       "    <tr style=\"text-align: right;\">\n",
       "      <th></th>\n",
       "      <th>Attrition</th>\n",
       "      <th>Avg_Monthly_Income</th>\n",
       "      <th>Total_Employees</th>\n",
       "    </tr>\n",
       "  </thead>\n",
       "  <tbody>\n",
       "    <tr>\n",
       "      <th>0</th>\n",
       "      <td>0</td>\n",
       "      <td>6832.74</td>\n",
       "      <td>1233</td>\n",
       "    </tr>\n",
       "    <tr>\n",
       "      <th>1</th>\n",
       "      <td>1</td>\n",
       "      <td>4787.09</td>\n",
       "      <td>237</td>\n",
       "    </tr>\n",
       "  </tbody>\n",
       "</table>\n",
       "</div>"
      ],
      "text/plain": [
       "   Attrition  Avg_Monthly_Income  Total_Employees\n",
       "0          0             6832.74             1233\n",
       "1          1             4787.09              237"
      ]
     },
     "execution_count": 18,
     "metadata": {},
     "output_type": "execute_result"
    }
   ],
   "source": [
    "query = \"\"\"\n",
    "SELECT Attrition,\n",
    "       ROUND(AVG(MonthlyIncome), 2) AS Avg_Monthly_Income,\n",
    "       COUNT(*) AS Total_Employees\n",
    "FROM hr\n",
    "GROUP BY Attrition;\n",
    "\"\"\"\n",
    "\n",
    "\n",
    "df_income = pd.read_sql_query(query, conn)\n",
    "\n",
    "df_income\n"
   ]
  },
  {
   "cell_type": "code",
   "execution_count": null,
   "id": "f290bf41",
   "metadata": {},
   "outputs": [],
   "source": []
  }
 ],
 "metadata": {
  "kernelspec": {
   "display_name": "venv",
   "language": "python",
   "name": "python3"
  },
  "language_info": {
   "codemirror_mode": {
    "name": "ipython",
    "version": 3
   },
   "file_extension": ".py",
   "mimetype": "text/x-python",
   "name": "python",
   "nbconvert_exporter": "python",
   "pygments_lexer": "ipython3",
   "version": "3.12.2"
  }
 },
 "nbformat": 4,
 "nbformat_minor": 5
}
